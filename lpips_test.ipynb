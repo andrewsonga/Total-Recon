{
 "cells": [
  {
   "cell_type": "code",
   "execution_count": 1,
   "metadata": {},
   "outputs": [],
   "source": [
    "import cv2\n",
    "import torch\n",
    "import lpips\n",
    "from torchmetrics.image.lpip import LearnedPerceptualImagePatchSimilarity\n",
    "from nnutils.eval_utils import compute_lpips\n",
    "from scripts.visualize.lpips_models import PerceptualLoss\n",
    "\n",
    "# WARNING: to import the PerceptualLoss from this notebook without any import errors, change the following lines in the following scripts:\n",
    "# 1) scripts/visualize/lpips_models/__init__.py\n",
    "# \"from lpips_models import dist_model\" -> \"from scripts.visualize.lpips_models import dist_model\"\n",
    "# \n",
    "# 2) scripts/visualize/lpips_models/dist_model.py\n",
    "# \"import lpips_models as util\" -> \"import scripts.visualize.lpips_models as util\"\n",
    "#\n",
    "# 3) scripts/visualize/lpips_models/networks_basic.py\n",
    "# \"import lpips_models as util\" -> \"import scripts.visualize.lpips_models as util\""
   ]
  },
  {
   "cell_type": "code",
   "execution_count": 2,
   "metadata": {},
   "outputs": [
    {
     "name": "stdout",
     "output_type": "stream",
     "text": [
      "range of example image ex_p0:  0.00784313725490196 0.996078431372549\n",
      "range of example image ex_p1:  0.0 1.0\n",
      "range of example image ex_ref:  0.0 1.0\n"
     ]
    }
   ],
   "source": [
    "# load example images from original LPIPS repo (https://github.com/richzhang/PerceptualSimilarity/tree/master/imgs)\n",
    "# DOWNLOAD the example images from the link above and place them in Total-Recon/lpips_test_imgs/\n",
    "\n",
    "ex_p0 = cv2.imread(\"./lpips_test_imgs/ex_p0.png\")[:,:,::-1] / 255.         # H, W, 3, range [0, 1]\n",
    "ex_p1 = cv2.imread(\"./lpips_test_imgs/ex_p1.png\")[:,:,::-1] / 255.         # H, W, 3, range [0, 1]\n",
    "ex_ref = cv2.imread(\"./lpips_test_imgs/ex_ref.png\")[:,:,::-1] / 255.       # H, W, 3, range [0, 1]\n",
    "\n",
    "print(\"range of example image ex_p0: \", ex_p0.min(), ex_p0.max())\n",
    "print(\"range of example image ex_p1: \", ex_p1.min(), ex_p1.max())\n",
    "print(\"range of example image ex_ref: \", ex_ref.min(), ex_ref.max())"
   ]
  },
  {
   "cell_type": "code",
   "execution_count": 4,
   "metadata": {},
   "outputs": [
    {
     "name": "stdout",
     "output_type": "stream",
     "text": [
      "Setting up Perceptual loss...\n",
      "Loading model from: /home/ndsong/Total-Recon/scripts/visualize/lpips_models/weights/v0.1/alex.pth\n",
      "...[net-lin [alex]] initialized\n",
      "...Done\n"
     ]
    }
   ],
   "source": [
    "# 1) Total-Recon's LPIPS implementation: \"compute_lpips\" (https://github.com/andrewsonga/Total-Recon/blob/7b49ce1a9da0f1a10a79e787b14b7e5c747e5c44/nnutils/eval_utils.py#L111-L132)\n",
    "# assumes input images as np.ndarrays in the range of [0, 1]\n",
    "# internally scales the input images to the range of [-1, 1] before feeding it to lpips function\n",
    "\n",
    "lpips_model = PerceptualLoss(model='net-lin', net='alex', use_gpu=True, version=0.1)\n",
    "lpips_p0_totalrecon = compute_lpips(ex_p0, ex_ref, lpips_model)\n",
    "lpips_p1_totalrecon = compute_lpips(ex_p1, ex_ref, lpips_model)"
   ]
  },
  {
   "cell_type": "code",
   "execution_count": 5,
   "metadata": {},
   "outputs": [
    {
     "name": "stdout",
     "output_type": "stream",
     "text": [
      "Setting up [LPIPS] perceptual loss: trunk [alex], v[0.1], spatial [off]\n",
      "Loading model from: /home/ndsong/anaconda3/envs/lpips_test/lib/python3.10/site-packages/lpips/weights/v0.1/alex.pth\n"
     ]
    },
    {
     "name": "stderr",
     "output_type": "stream",
     "text": [
      "/home/ndsong/anaconda3/envs/lpips_test/lib/python3.10/site-packages/lpips/lpips.py:107: FutureWarning: You are using `torch.load` with `weights_only=False` (the current default value), which uses the default pickle module implicitly. It is possible to construct malicious pickle data which will execute arbitrary code during unpickling (See https://github.com/pytorch/pytorch/blob/main/SECURITY.md#untrusted-models for more details). In a future release, the default value for `weights_only` will be flipped to `True`. This limits the functions that could be executed during unpickling. Arbitrary objects will no longer be allowed to be loaded via this mode unless they are explicitly allowlisted by the user via `torch.serialization.add_safe_globals`. We recommend you start setting `weights_only=True` for any use case where you don't have full control of the loaded file. Please open an issue on GitHub for any issues related to this experimental feature.\n",
      "  self.load_state_dict(torch.load(model_path, map_location='cpu'), strict=False)\n"
     ]
    }
   ],
   "source": [
    "# 2) lpips library's LPIPS implementation: \"lpips.LPIPS\" (https://pypi.org/project/lpips/)\n",
    "# assumes input images in the range of [-1, 1]\n",
    "\n",
    "ex_p0 = torch.from_numpy(ex_p0)[None].float().permute(0, 3, 1, 2) * 2 - 1            # tensor of shape (3, H, W), range [-1, 1]\n",
    "ex_p1 = torch.from_numpy(ex_p1)[None].float().permute(0, 3, 1, 2) * 2 - 1            # tensor of shape (3, H, W), range [-1, 1]\n",
    "ex_ref = torch.from_numpy(ex_ref)[None].float().permute(0, 3, 1, 2) * 2 - 1          # tensor of shape (3, H, W), range [-1, 1]\n",
    "\n",
    "loss_fn_alex = lpips.LPIPS(net='alex') # best forward scores\n",
    "lpips_p0_lpips = loss_fn_alex(ex_p0, ex_ref)\n",
    "lpips_p1_lpips = loss_fn_alex(ex_p1, ex_ref)"
   ]
  },
  {
   "cell_type": "code",
   "execution_count": 6,
   "metadata": {},
   "outputs": [
    {
     "name": "stderr",
     "output_type": "stream",
     "text": [
      "/home/ndsong/anaconda3/envs/lpips_test/lib/python3.10/site-packages/torchmetrics/functional/image/lpips.py:325: FutureWarning: You are using `torch.load` with `weights_only=False` (the current default value), which uses the default pickle module implicitly. It is possible to construct malicious pickle data which will execute arbitrary code during unpickling (See https://github.com/pytorch/pytorch/blob/main/SECURITY.md#untrusted-models for more details). In a future release, the default value for `weights_only` will be flipped to `True`. This limits the functions that could be executed during unpickling. Arbitrary objects will no longer be allowed to be loaded via this mode unless they are explicitly allowlisted by the user via `torch.serialization.add_safe_globals`. We recommend you start setting `weights_only=True` for any use case where you don't have full control of the loaded file. Please open an issue on GitHub for any issues related to this experimental feature.\n",
      "  self.load_state_dict(torch.load(model_path, map_location=\"cpu\"), strict=False)\n"
     ]
    }
   ],
   "source": [
    "# 3) torchmetrics' LPIPS implementation: \"torchmetrics.image.lpip.LearnedPerceptualImagePatchSimilarity\" (https://torchmetrics.readthedocs.io/en/latest/pages/image_metrics.html#learnedperceptualimagepatchsimilarity)\n",
    "\n",
    "lpips_torchmetrics = LearnedPerceptualImagePatchSimilarity(net_type='alex')\n",
    "lpips_p0_lpips = lpips_torchmetrics(ex_p0, ex_ref)\n",
    "lpips_p1_lpips = lpips_torchmetrics(ex_p1, ex_ref)"
   ]
  },
  {
   "cell_type": "code",
   "execution_count": 7,
   "metadata": {},
   "outputs": [
    {
     "name": "stdout",
     "output_type": "stream",
     "text": [
      "LPIPS between ex_p0 and ex_ref:\n",
      "Total-Recon's LPIPS implementation:  0.719045877456665\n",
      "lpips library's LPIPS implementation:  tensor(0.7219)\n",
      "torchmetrics' LPIPS implementation:  tensor(0.7219)\n"
     ]
    }
   ],
   "source": [
    "# Comparing the results between Total-Recon's, lpips library's, and torchmetrics' LPIPS implementations\n",
    "# lpips_p0\n",
    "print(\"LPIPS between ex_p0 and ex_ref:\")\n",
    "print(\"Total-Recon's LPIPS implementation: \", lpips_p0_totalrecon)\n",
    "print(\"lpips library's LPIPS implementation: \", lpips_p0_lpips)\n",
    "print(\"torchmetrics' LPIPS implementation: \", lpips_p0_lpips)"
   ]
  },
  {
   "cell_type": "code",
   "execution_count": 8,
   "metadata": {},
   "outputs": [
    {
     "name": "stdout",
     "output_type": "stream",
     "text": [
      "LPIPS between ex_p1 and ex_ref:\n",
      "Total-Recon's LPIPS implementation:  0.13566210865974426\n",
      "lpips library's LPIPS implementation:  tensor(0.1376)\n",
      "torchmetrics' LPIPS implementation:  tensor(0.1376)\n"
     ]
    }
   ],
   "source": [
    "# Comparing the results between Total-Recon's, lpips library's, and torchmetrics' LPIPS implementations\n",
    "# lpips_p1\n",
    "print(\"LPIPS between ex_p1 and ex_ref:\")\n",
    "print(\"Total-Recon's LPIPS implementation: \", lpips_p1_totalrecon)\n",
    "print(\"lpips library's LPIPS implementation: \", lpips_p1_lpips)\n",
    "print(\"torchmetrics' LPIPS implementation: \", lpips_p1_lpips)"
   ]
  },
  {
   "cell_type": "markdown",
   "metadata": {},
   "source": [
    "The slight difference in metrics between Total-Recon's implementation and the latest implementations of LPIPS by Zhang et. al and torchmetrics is due to the following:\n",
    "\n",
    "Total-Recon's lpips implementation was taken from the NSFF repo, which in turn was taken from the original LPIPS library written by Zhang et. al (according to this github issue: https://github.com/zhengqili/Neural-Scene-Flow-Fields/issues/6). The NSFF repo took the version of the original LPIPS library before this commit on September 5th, 2020 (https://github.com/richzhang/PerceptualSimilarity/commit/c33f89e9f46522a584cf41d8880eb0afa982708b), which carried out a large refactoring of the codebase. It is highly likely that the changes made during this commit and all subsequent commits are the reason for the discrepancy shown above. "
   ]
  },
  {
   "cell_type": "markdown",
   "metadata": {},
   "source": []
  }
 ],
 "metadata": {
  "kernelspec": {
   "display_name": "lpips_test",
   "language": "python",
   "name": "python3"
  },
  "language_info": {
   "codemirror_mode": {
    "name": "ipython",
    "version": 3
   },
   "file_extension": ".py",
   "mimetype": "text/x-python",
   "name": "python",
   "nbconvert_exporter": "python",
   "pygments_lexer": "ipython3",
   "version": "3.10.14"
  }
 },
 "nbformat": 4,
 "nbformat_minor": 2
}
